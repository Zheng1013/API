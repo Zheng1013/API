{
 "cells": [
  {
   "cell_type": "code",
   "execution_count": 1,
   "metadata": {},
   "outputs": [
    {
     "name": "stdout",
     "output_type": "stream",
     "text": [
      "id=123 name='andy' age=None friends=['john', 'jay']\n"
     ]
    }
   ],
   "source": [
    "from typing import List , Optional\n",
    "from pydantic import BaseModel\n",
    "\n",
    "class User(BaseModel):\n",
    "    id:int\n",
    "    name:str \n",
    "    age : Optional[int] = None \n",
    "    friends : List[str] = []\n",
    "\n",
    "user = User(id=123,name=\"andy\",friends=[\"john\",\"jay\"])\n",
    "\n",
    "print(user)"
   ]
  },
  {
   "cell_type": "code",
   "execution_count": 2,
   "metadata": {},
   "outputs": [
    {
     "name": "stdout",
     "output_type": "stream",
     "text": [
      "Q5rqq3fS5bzQgqw3L7_1puySw_IeUsQVIktIXdLxGQU\n"
     ]
    }
   ],
   "source": [
    "import secrets\n",
    "\n",
    "def genrate_api_key():\n",
    "    return secrets.token_urlsafe(32)\n",
    "\n",
    "api_key = genrate_api_key()\n",
    "print(api_key)"
   ]
  },
  {
   "cell_type": "code",
   "execution_count": 2,
   "metadata": {},
   "outputs": [
    {
     "data": {
      "text/plain": [
       "'13'"
      ]
     },
     "execution_count": 2,
     "metadata": {},
     "output_type": "execute_result"
    }
   ],
   "source": [
    "from datetime import datetime\n",
    "\n",
    "datetime.now().strftime('%H')"
   ]
  }
 ],
 "metadata": {
  "kernelspec": {
   "display_name": "py311",
   "language": "python",
   "name": "python3"
  },
  "language_info": {
   "codemirror_mode": {
    "name": "ipython",
    "version": 3
   },
   "file_extension": ".py",
   "mimetype": "text/x-python",
   "name": "python",
   "nbconvert_exporter": "python",
   "pygments_lexer": "ipython3",
   "version": "3.11.5"
  }
 },
 "nbformat": 4,
 "nbformat_minor": 2
}
